{
  "nbformat": 4,
  "nbformat_minor": 0,
  "metadata": {
    "colab": {
      "name": "C105.ipynb",
      "provenance": []
    },
    "kernelspec": {
      "name": "python3",
      "display_name": "Python 3"
    },
    "language_info": {
      "name": "python"
    }
  },
  "cells": [
    {
      "cell_type": "code",
      "execution_count": 6,
      "metadata": {
        "colab": {
          "base_uri": "https://localhost:8080/"
        },
        "id": "myIM5A8NkAgr",
        "outputId": "7a175926-fc27-42c6-b468-233c4695b803"
      },
      "outputs": [
        {
          "output_type": "stream",
          "name": "stdout",
          "text": [
            "The standard deviation is.... 17.093208527885505\n"
          ]
        }
      ],
      "source": [
        "data = [60,61,65,63,98,99,90,95,91,96]\n",
        "\n",
        "import math\n",
        "\n",
        "total_value = 0\n",
        "total_amount = len(data)\n",
        "deviation = 0\n",
        "total_deviation = 0\n",
        "\n",
        "for i in data:\n",
        "  total_value += float(i)\n",
        "\n",
        "mean = total_value/total_amount\n",
        "\n",
        "for i in data:\n",
        "   deviation = (i-mean)\n",
        "   total_deviation += (deviation**2/(total_amount-1))\n",
        "\n",
        "print(\"The standard deviation is....\",math.sqrt(total_deviation))\n",
        "\n",
        "##SD = SQRT((X-Mean)^2/N-1) where N is the amount of terms"
      ]
    },
    {
      "cell_type": "code",
      "source": [
        ""
      ],
      "metadata": {
        "id": "IL2O7BaqZFmg"
      },
      "execution_count": null,
      "outputs": []
    },
    {
      "cell_type": "code",
      "source": [
        ""
      ],
      "metadata": {
        "id": "SrL072DclItB"
      },
      "execution_count": null,
      "outputs": []
    }
  ]
}